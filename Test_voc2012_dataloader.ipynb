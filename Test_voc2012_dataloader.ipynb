{
 "cells": [
  {
   "cell_type": "code",
   "execution_count": 1,
   "metadata": {},
   "outputs": [
    {
     "name": "stdout",
     "output_type": "stream",
     "text": [
      "./data/VOCdevkit/VOC2012/JPEGImages/2008_000008.jpg\n",
      "./data/VOCdevkit/VOC2012/Annotations/2008_000008.xml\n",
      "./data/VOCdevkit/VOC2012/JPEGImages/2008_000002.jpg\n",
      "./data/VOCdevkit/VOC2012/Annotations/2008_000002.xml\n"
     ]
    }
   ],
   "source": [
    "from voc import make_filepath_list\n",
    "\n",
    "rootpath = './data/VOCdevkit/VOC2012/'\n",
    "tr_img, tr_anno, val_img, val_anno = make_filepath_list(rootpath=rootpath)\n",
    "\n",
    "print(tr_img[0])\n",
    "print(tr_anno[0])\n",
    "print(val_img[0])\n",
    "print(val_anno[0])"
   ]
  },
  {
   "cell_type": "code",
   "execution_count": 5,
   "metadata": {},
   "outputs": [
    {
     "data": {
      "text/plain": [
       "array([[ 0.18      ,  0.03733333,  0.782     ,  0.93866667, 19.        ]])"
      ]
     },
     "execution_count": 5,
     "metadata": {},
     "output_type": "execute_result"
    }
   ],
   "source": [
    "import cv2\n",
    "from voc import GetBBoxAndLabel\n",
    "\n",
    "voc_labels = [\n",
    "  'aeroplane', 'bicycle', 'bird', 'boat', 'bottle', 'bus', \n",
    "  'car', 'cat', 'chair', 'cow', 'diningtable', 'dog', 'horse', \n",
    "  'motorbike', 'person', 'pottedplant', 'sheep', 'sofa', 'train',\n",
    "  'tvmonitor'\n",
    "]\n",
    "\n",
    "annotation = GetBBoxAndLabel(voc_labels)\n",
    "\n",
    "index = 4\n",
    "img_path = val_img[index]\n",
    "\n",
    "#(height, width, RGB)のndarrayを取得\n",
    "img = cv2.imread(img_path)\n",
    "height, width, _ = img.shape\n",
    "annotation(val_anno[index], width, height)"
   ]
  },
  {
   "cell_type": "code",
   "execution_count": 9,
   "metadata": {},
   "outputs": [
    {
     "name": "stdout",
     "output_type": "stream",
     "text": [
      "[0, 1, 2, 3, 4, 5, 6, 7, 8]\n",
      "[1, 2, 3, 4, 5, 6, 7, 8, 9]\n",
      "[0, 1]\n",
      "[9, 8, 7, 6, 5, 4, 3, 2, 1, 0]\n",
      "[0, 2, 4, 6, 8]\n",
      "[2, 0]\n"
     ]
    }
   ],
   "source": [
    "a = [_ for _ in range(10)]\n",
    "print(a[:-1])\n",
    "print(a[1:])\n",
    "print(a[:2])\n",
    "print(a[::-1])\n",
    "print(a[0::2])\n",
    "print(a[2::-2])"
   ]
  },
  {
   "cell_type": "code",
   "execution_count": null,
   "metadata": {},
   "outputs": [],
   "source": []
  }
 ],
 "metadata": {
  "kernelspec": {
   "display_name": "Python 3",
   "language": "python",
   "name": "python3"
  },
  "language_info": {
   "codemirror_mode": {
    "name": "ipython",
    "version": 3
   },
   "file_extension": ".py",
   "mimetype": "text/x-python",
   "name": "python",
   "nbconvert_exporter": "python",
   "pygments_lexer": "ipython3",
   "version": "3.8.10"
  },
  "orig_nbformat": 4
 },
 "nbformat": 4,
 "nbformat_minor": 2
}
