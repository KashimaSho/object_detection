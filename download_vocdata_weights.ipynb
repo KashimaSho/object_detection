{
 "cells": [
  {
   "cell_type": "code",
   "execution_count": 1,
   "metadata": {},
   "outputs": [],
   "source": [
    "import os"
   ]
  },
  {
   "attachments": {},
   "cell_type": "markdown",
   "metadata": {},
   "source": [
    "データを格納するフォルダと重みを格納するフォルダを準備"
   ]
  },
  {
   "cell_type": "code",
   "execution_count": 2,
   "metadata": {},
   "outputs": [],
   "source": [
    "data_dir = './data/'\n",
    "if not os.path.exists(data_dir):\n",
    "  os.mkdir(data_dir)\n",
    "  \n",
    "weights_dir = './weights/'\n",
    "if not os.path.exists(weights_dir):\n",
    "  os.mkdir(weights_dir)\n"
   ]
  },
  {
   "attachments": {},
   "cell_type": "markdown",
   "metadata": {},
   "source": [
    "voc2012データセットをダウンロード\n",
    "20クラスに分類される11,540枚の画像\n",
    "分析する際にはこれにbackgroundを加えた21クラスになる\n",
    "Annotationsにはxml形式で訓練用と検証用のアノテーションデータをすべて格納\n",
    "JPEGImagesにはjpeg形式で訓練用と検証用の画像をすべて格納\n",
    "ImageSetsにはtrain.txtに訓練用のファイル名、val.txtに検証用のファイル名を記載"
   ]
  },
  {
   "cell_type": "code",
   "execution_count": 4,
   "metadata": {},
   "outputs": [],
   "source": [
    "import urllib\n",
    "import tarfile\n",
    "\n",
    "url = 'http://host.robots.ox.ac.uk/pascal/VOC/voc2012/VOCtrainval_11-May-2012.tar'\n",
    "target_path = os.path.join(data_dir, 'VOCtrainval_11-May-2012.tar')\n",
    "if not os.path.exists(target_path):\n",
    "  urllib.request.urlretrieve(url, target_path)\n",
    "  tar = tarfile.TarFile(target_path)\n",
    "  tar.extractall(data_dir)\n",
    "  tar.close()"
   ]
  },
  {
   "attachments": {},
   "cell_type": "markdown",
   "metadata": {},
   "source": [
    "VGG16の学習済み重みをダウンロード\n",
    "%%timeで時間を計測"
   ]
  },
  {
   "cell_type": "code",
   "execution_count": null,
   "metadata": {},
   "outputs": [],
   "source": [
    "%%time\n",
    "url = 'https://s3.amazonaws.com/amdegroot-models/vgg16_reducedfc.pth'\n",
    "target_path = os.path.join(weights_dir, 'vgg16_reducedfc.pth')\n",
    "if not os.path.exists(target_path):\n",
    "  urllib.request.urlretrieve(url, target_path)"
   ]
  },
  {
   "attachments": {},
   "cell_type": "markdown",
   "metadata": {},
   "source": [
    "SSD300の学習済み重みをダウンロード"
   ]
  },
  {
   "cell_type": "code",
   "execution_count": null,
   "metadata": {},
   "outputs": [],
   "source": [
    "%%time\n",
    "\n",
    "url = 'https://s3.amazonaws.com/amdegroot-models/ssd300_mAP_77.43_v2.pth'\n",
    "target_path = os.path.join(weights, 'ssd300_mAP_77.43_v2.pth')\n",
    "if not os.path.exists(target_path):\n",
    "  urllib.request.urlretrieve(url, target_path)"
   ]
  },
  {
   "cell_type": "code",
   "execution_count": null,
   "metadata": {},
   "outputs": [],
   "source": []
  }
 ],
 "metadata": {
  "kernelspec": {
   "display_name": "Python 3",
   "language": "python",
   "name": "python3"
  },
  "language_info": {
   "codemirror_mode": {
    "name": "ipython",
    "version": 3
   },
   "file_extension": ".py",
   "mimetype": "text/x-python",
   "name": "python",
   "nbconvert_exporter": "python",
   "pygments_lexer": "ipython3",
   "version": "3.10.11"
  },
  "orig_nbformat": 4
 },
 "nbformat": 4,
 "nbformat_minor": 2
}
